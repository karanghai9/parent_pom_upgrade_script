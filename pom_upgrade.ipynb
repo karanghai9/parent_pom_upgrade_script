{
 "cells": [
  {
   "cell_type": "code",
   "execution_count": null,
   "id": "0d40ee93",
   "metadata": {},
   "outputs": [
    {
     "name": "stderr",
     "output_type": "stream",
     "text": [
      "Cloning into 'forked_repo'...\n"
     ]
    },
    {
     "name": "stdout",
     "output_type": "stream",
     "text": [
      "Branch does not exist, creating it.\n",
      "✅ Updated version to 3.0.3 with exact XML declaration\n",
      "[pom-upgrade ed544424cf] Upgrade pom.xml version\n",
      " 1 file changed, 11 insertions(+), 15 deletions(-)\n"
     ]
    },
    {
     "name": "stderr",
     "output_type": "stream",
     "text": [
      "Switched to a new branch 'pom-upgrade'\n"
     ]
    },
    {
     "name": "stdout",
     "output_type": "stream",
     "text": [
      "Changes committed to branch 'pom-upgrade'. Push manually if needed.\n"
     ]
    },
    {
     "name": "stderr",
     "output_type": "stream",
     "text": [
      "remote: \n",
      "remote: Create a pull request for 'pom-upgrade' on GitHub by visiting:        \n",
      "remote:      https://github.com/karanghai9/db-fork-spring-boot/pull/new/pom-upgrade        \n",
      "remote: \n",
      "To https://github.com/karanghai9/db-fork-spring-boot.git\n",
      " * [new branch]            pom-upgrade -> pom-upgrade\n"
     ]
    }
   ],
   "source": [
    "import os\n",
    "import subprocess\n",
    "import xml.etree.ElementTree as ET\n",
    "\n",
    "GITHUB_TOKEN = ''\n",
    "REPO_URL = f'https://github.com/karanghai9/db-fork-spring-boot.git'\n",
    "LOCAL_DIR = 'forked_repo'\n",
    "BRANCH_NAME = 'pom-upgrade'\n",
    "COMMIT_MESSAGE = 'Upgrade pom.xml version'\n",
    "\n",
    "# --- 1. Clone the repository ---\n",
    "if not os.path.exists(LOCAL_DIR):\n",
    "    subprocess.run(['git', 'clone', REPO_URL, LOCAL_DIR], check=True)\n",
    "\n",
    "# --- 2. Create and switch to a new branch ---\n",
    "# Check if the branch exists locally\n",
    "branch = subprocess.run(\n",
    "    ['git', 'branch', '--list', BRANCH_NAME],\n",
    "    cwd=LOCAL_DIR,\n",
    "    stdout=subprocess.PIPE,\n",
    "    text=True\n",
    ")\n",
    "if branch.stdout.strip():\n",
    "    print(\"Branch exists, checking it out.\")\n",
    "    subprocess.run(['git', 'checkout', BRANCH_NAME], cwd=LOCAL_DIR, check=True)\n",
    "else:\n",
    "    print(\"Branch does not exist, creating it.\")\n",
    "    subprocess.run(['git', 'checkout', '-b', BRANCH_NAME], cwd=LOCAL_DIR, check=True)\n",
    "\n",
    "pom_path = os.path.join(os.getcwd(), 'forked_repo', 'pom.xml')\n",
    "new_version = '3.0.3'\n",
    "\n",
    "# Namespace used in your pom.xml\n",
    "NAMESPACE = \"http://maven.apache.org/POM/4.0.0\"\n",
    "\n",
    "# Register the default namespace (empty string) to avoid ns0: prefixes\n",
    "ET.register_namespace('', NAMESPACE)\n",
    "\n",
    "tree = ET.parse(pom_path)\n",
    "root = tree.getroot()\n",
    "\n",
    "version_element = root.find(f'{{{NAMESPACE}}}version')\n",
    "if version_element is not None:\n",
    "    version_element.text = new_version\n",
    "\n",
    "    # Write XML WITHOUT declaration to a temp file or string\n",
    "    import io\n",
    "    temp_io = io.BytesIO()\n",
    "    tree.write(temp_io, encoding='UTF-8', xml_declaration=False)\n",
    "    xml_body = temp_io.getvalue()\n",
    "\n",
    "    # Now write final file with your exact desired declaration manually prepended\n",
    "    with open(pom_path, 'wb') as f:\n",
    "        f.write(b'<?xml version=\"1.0\" encoding=\"UTF-8\"?>\\n')\n",
    "        f.write(xml_body)\n",
    "\n",
    "    print(f\"✅ Updated version to {new_version} with exact XML declaration\")\n",
    "else:\n",
    "    print(\"⚠️ <version> tag not found\")\n",
    "\n",
    "# Save file\n",
    "tree.write(pom_path, encoding='utf-8', xml_declaration=True)\n",
    "\n",
    "# Push changes\n",
    "subprocess.run(['git', 'add', 'pom.xml'], cwd=LOCAL_DIR, check=True)\n",
    "subprocess.run(['git', 'commit', '-m', COMMIT_MESSAGE], cwd=LOCAL_DIR,  check=True)\n",
    "\n",
    "# Use HTTPS with GitHub token (replace before running or use SSH instead)\n",
    "subprocess.run(['git', 'push', 'origin', BRANCH_NAME], cwd=LOCAL_DIR, check=True)\n",
    "print(f\"Changes committed to branch '{BRANCH_NAME}'. Push manually if needed.\")"
   ]
  },
  {
   "cell_type": "code",
   "execution_count": null,
   "id": "6059fd2a",
   "metadata": {},
   "outputs": [],
   "source": []
  }
 ],
 "metadata": {
  "kernelspec": {
   "display_name": "Python 3",
   "language": "python",
   "name": "python3"
  },
  "language_info": {
   "codemirror_mode": {
    "name": "ipython",
    "version": 3
   },
   "file_extension": ".py",
   "mimetype": "text/x-python",
   "name": "python",
   "nbconvert_exporter": "python",
   "pygments_lexer": "ipython3",
   "version": "3.9.6"
  }
 },
 "nbformat": 4,
 "nbformat_minor": 5
}
